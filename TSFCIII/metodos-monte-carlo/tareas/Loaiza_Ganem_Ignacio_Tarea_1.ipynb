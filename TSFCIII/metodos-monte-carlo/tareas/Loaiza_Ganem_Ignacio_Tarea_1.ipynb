{
 "metadata": {
  "language": "Julia",
  "name": "",
  "signature": "sha256:7db7f277a86afc1c07caf779ff16ebd022e0e6641c92ef426bbe9656fbb7ff60"
 },
 "nbformat": 3,
 "nbformat_minor": 0,
 "worksheets": [
  {
   "cells": [
    {
     "cell_type": "heading",
     "level": 1,
     "metadata": {},
     "source": [
      "Tarea 1: Temas selectos de f\u00edsica computacional III"
     ]
    },
    {
     "cell_type": "heading",
     "level": 3,
     "metadata": {},
     "source": [
      "Ignacio Loaiza G\u00e1nem --- 412051272"
     ]
    },
    {
     "cell_type": "heading",
     "level": 2,
     "metadata": {},
     "source": [
      "Ejercicio 1: Aprender (lo b\u00e1sico) de Julia para c\u00f3mputo cient\u00edfico"
     ]
    },
    {
     "cell_type": "markdown",
     "metadata": {},
     "source": [
      "Llev\u00e9 la materia de f\u00edsica computacional el semestre pasado con David, por lo cual ya se utilizar lo b\u00e1sico de Julia."
     ]
    },
    {
     "cell_type": "heading",
     "level": 2,
     "metadata": {},
     "source": [
      "Ejercicio 2:"
     ]
    },
    {
     "cell_type": "markdown",
     "metadata": {},
     "source": [
      "Lista de cosas que me gustan de Julia:\n",
      "- es un lenguaje muy amigable, la sint\u00e1xis es muy relajada e intuitiva; \n",
      "- de forma autom\u00e1tica sabe operar entre tipos distintos de n\u00fameros;\n",
      "- c\u00f3mo completa lo que vamos a escribir al utilizar <tab>, volviendo f\u00e1cil utilizar nombres concretos (y largos) para funciones y variables;\n",
      "- la compatibilidad que tiene con otros lenguajes.\n",
      "\n",
      "Lista de cosas que no me gustan de Julia:\n",
      "- el kernel se traba algo seguido, teniendo que reiniciarlo por completo;\n",
      "- a\u00fan no tiene muchos paquetes, por lo que hay que utilizar paquetes hechos para otros lenguajes, siendo algo lento;\n",
      "- el lenguaje es a\u00fan muy nuevo, por lo que no hay tanto soporte y ayuda en la red."
     ]
    },
    {
     "cell_type": "heading",
     "level": 2,
     "metadata": {},
     "source": [
      "**Ejercicio 3**:"
     ]
    },
    {
     "cell_type": "markdown",
     "metadata": {},
     "source": [
      "Ya instal\u00e9 Julia."
     ]
    }
   ],
   "metadata": {}
  }
 ]
}