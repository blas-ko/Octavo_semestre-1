{
 "metadata": {
  "language": "Julia",
  "name": "",
  "signature": "sha256:ba23f7c8a53d2924981e9f6a289a3dcc6cd992c1c2f1761158dd3d23927374dc"
 },
 "nbformat": 3,
 "nbformat_minor": 0,
 "worksheets": [
  {
   "cells": [
    {
     "cell_type": "heading",
     "level": 1,
     "metadata": {},
     "source": [
      "Tarea 5.2"
     ]
    },
    {
     "cell_type": "heading",
     "level": 2,
     "metadata": {},
     "source": [
      "Ignacio Loaiza\n",
      "<p>\n",
      "    <p>\n",
      "Blas Kolic"
     ]
    },
    {
     "cell_type": "heading",
     "level": 1,
     "metadata": {},
     "source": [
      "Distribuci\u00f3n estacionaria"
     ]
    },
    {
     "cell_type": "markdown",
     "metadata": {},
     "source": [
      "En el notebook 05, vimos que la distribuci\u00f3n de probabilidad $\\mathbf{\\mu}_t$ de una cadena de Markov tiende a acercarse (*converger*), cuando $t \\to \\infty$, a una distribuci\u00f3n de probabilidad que podemos denotar $\\mathbf{\\mu}_\\infty$.  [Usaremos la notaci\u00f3n $\\mu$ (de \"medida\") para evitar que haya tantos P's.]"
     ]
    },
    {
     "cell_type": "markdown",
     "metadata": {},
     "source": [
      "[1] (i) Escribe la ecuaci\u00f3n que gobierna la evoluci\u00f3n de $\\mathbf{\\mu}_t$, y de ah\u00ed obtiene una ecuaci\u00f3n para $\\mathbf{\\mu}_\\infty$.\n",
      "\n",
      "(ii) \u00bfC\u00f3mo se relacion $\\mathbf{\\mu}_\\infty$ con la matriz de transici\u00f3n $\\mathsf{P}$ de la cadena?\n",
      "\n",
      "(iii) Demuestra que si empezamos con la distribuci\u00f3n $\\mathbf{\\mu}_\\infty$, la distribuci\u00f3n a cualquier tiempo ser\u00e1 la misma. \n",
      "\n",
      "(iv) Debido a ello, llamamos a $\\mathbf{\\mu}_\\infty$ una *distribuci\u00f3n estacionaria* de la cadena. se puede demostrar que existe y es \u00fanica si la cadena satisface dos propiedades t\u00e9cnicas, que sea *aperi\u00f3dica* e *irreducible*.\n",
      "\n",
      "Busca y explica estas dos propiedades de una cadena de Markov."
     ]
    },
    {
     "cell_type": "heading",
     "level": 2,
     "metadata": {},
     "source": [
      "1)"
     ]
    },
    {
     "cell_type": "heading",
     "level": 3,
     "metadata": {},
     "source": [
      "$i)$"
     ]
    },
    {
     "cell_type": "markdown",
     "metadata": {},
     "source": [
      "$$\\mu_{t+1}=\\mu_t*P=\\mu_0*P^t$$"
     ]
    },
    {
     "cell_type": "heading",
     "level": 3,
     "metadata": {},
     "source": [
      "$ii)$"
     ]
    },
    {
     "cell_type": "markdown",
     "metadata": {},
     "source": [
      "$$\\mu_\\infty=\\lim_{n\\rightarrow\\infty}\\mu_n=\\lim_{n\\rightarrow\\infty}\\mu_0*P^n=\\mu_0*\\lim_{n\\rightarrow\\infty}P^n=\\mu_0*P^\\infty$$"
     ]
    },
    {
     "cell_type": "heading",
     "level": 3,
     "metadata": {},
     "source": [
      "$iii)$"
     ]
    },
    {
     "cell_type": "markdown",
     "metadata": {},
     "source": [
      "$$\\mu_{\\infty+1}=\\mu_\\infty*P=\\mu_0*P*\\lim_{n\\rightarrow\\infty}P^n=\\mu_0*\\lim_{n\\rightarrow\\infty}P^{n+1}=\\mu_0*\\lim_{n\\rightarrow\\infty}P^n=\\mu_\\infty$$"
     ]
    },
    {
     "cell_type": "heading",
     "level": 3,
     "metadata": {},
     "source": [
      "$iv)$"
     ]
    },
    {
     "cell_type": "heading",
     "level": 6,
     "metadata": {},
     "source": [
      "Periodicidad:"
     ]
    },
    {
     "cell_type": "markdown",
     "metadata": {},
     "source": [
      "Se dice que un estado $i$ va a tener una periodicidad $k$ si y s\u00f3lo si, al cabo de un m\u00faltiplo de $k$ pasos, uno acaba regresando con probabilidad $1$ al estado $k$ (sea que $k$ es el m\u00e1ximo com\u00fan divisor del conjunto de tiempos a los cuales el estado puede regresar a su estado inicial). Si $k=1$, se dice que el estado es aperi\u00f3dico. Una cadena de Markov se dice aperi\u00f3dica si y s\u00f3lo si todos sus estados son aperi\u00f3dicos."
     ]
    },
    {
     "cell_type": "heading",
     "level": 6,
     "metadata": {},
     "source": [
      "Irreducibilidad:"
     ]
    },
    {
     "cell_type": "markdown",
     "metadata": {},
     "source": [
      "Se dice que una cadena de Markov es irreductible si y s\u00f3lo si le es posible ir de cualquier estado a cualquier otro estado."
     ]
    },
    {
     "cell_type": "markdown",
     "metadata": {},
     "source": [
      "[2] Dada una matriz de transici\u00f3n $\\mathsf{P}$, \u00bfc\u00f3mo podemos calcular de forma num\u00e9rica la distribuci\u00f3n estacionaria correspondiente?"
     ]
    },
    {
     "cell_type": "heading",
     "level": 2,
     "metadata": {},
     "source": [
      "2)"
     ]
    },
    {
     "cell_type": "markdown",
     "metadata": {},
     "source": [
      "Una manera de calcular de forma num\u00e9rica la distribuci\u00f3n estacionaria correspondiente a una matriz $P$ ser\u00eda multiplicar un gran n\u00famero de veces a la matrix $P$ por s\u00ed misma."
     ]
    },
    {
     "cell_type": "markdown",
     "metadata": {},
     "source": [
      "[3] Reescribe la expresi\u00f3n de estacionariedad para un estado dado, $i$, de la cadena. Interpreta esta expresi\u00f3n f\u00edsicamente. Esta propiedad se llama *balance*."
     ]
    },
    {
     "cell_type": "heading",
     "level": 2,
     "metadata": {},
     "source": [
      "3)"
     ]
    },
    {
     "cell_type": "markdown",
     "metadata": {},
     "source": [
      "Tenemos que la expresi\u00f3n de estacionariedad para un estado dado $i$ es:\n",
      "$$\\mu_{\\infty,i}=\\sum_j\\mu_{infty,j}*p_{ij};$$\n",
      "siendo $\\mu_{infty,i}$ la probabilidad de estar en el estado $i$ estando en el estado estacionario."
     ]
    },
    {
     "cell_type": "markdown",
     "metadata": {},
     "source": [
      "[4] \u00bfQu\u00e9 tan r\u00e1pido converger\u00e1 una cadena de Markov a distribuci\u00f3n estacionaria?"
     ]
    },
    {
     "cell_type": "heading",
     "level": 2,
     "metadata": {},
     "source": [
      "4)"
     ]
    },
    {
     "cell_type": "markdown",
     "metadata": {},
     "source": [
      "Se puede demostrar que sean $\\lambda_1, \\lambda_2, ..., \\lambda_n$ los eigenvalores de la matriz de transici\u00f3n $P$, con $|\\lambda_i|\\leq|\\lambda_j|\\ \\forall i>j$, entonces la distribuci\u00f3n va a converger a la distribuci\u00f3n estacionaria como:\n",
      "$$\\sim e^{t*\\lambda_2/\\lambda_1}.$$"
     ]
    },
    {
     "cell_type": "heading",
     "level": 1,
     "metadata": {},
     "source": [
      "Hacia MCMC: Markov Chain Monte Carlo"
     ]
    },
    {
     "cell_type": "markdown",
     "metadata": {},
     "source": [
      "En el resto del curso, estaremos ocupados con una pregunta distinta:\n",
      "\n",
      "*Dada* una distribuci\u00f3n de probabilidad $\\pi$ sobre un conjunto $S := \\{s_1, \\ldots, s_k\\}$, \u00bfc\u00f3mo podr\u00edamos *dise\u00f1ar* un proceso estoc\u00e1stico tal que tenga la distribuci\u00f3n $\\pi$, y as\u00ed *simular* el sistema con la distribuci\u00f3n requerida?"
     ]
    },
    {
     "cell_type": "markdown",
     "metadata": {},
     "source": [
      "[5] \u00a1Responde esta pregunta!"
     ]
    }
   ],
   "metadata": {}
  }
 ]
}