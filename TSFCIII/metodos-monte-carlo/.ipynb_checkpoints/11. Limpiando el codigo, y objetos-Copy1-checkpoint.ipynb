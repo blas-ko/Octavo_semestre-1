{
 "cells": [
  {
   "cell_type": "markdown",
   "metadata": {},
   "source": [
    "Hasta ahora, tu código probablemente está regado en uno o varios notebooks.\n",
    "La idea es, primero, recolectarlo en un lugar."
   ]
  },
  {
   "cell_type": "markdown",
   "metadata": {},
   "source": [
    "[1] Revisa la documentación sobre **modules** (módulos) en Julia. Crea un módulo que se llama `Ising` (o `ModeloIsing`, o algo por el estilo), en un archivo `Ising.jl` tal que puedas incluir el código (e.g. desde un notebook) con `using Ising`, y correrlo al llamar una sola función que acepte los parámetros importantes del modelo (tamaño de la caja, temperatura, etc.).  [Se recomienda usar un editor que \"sepa Julia\", e.g. Juno, Sublime Text, Atom (o Emacs o Vim) para este propósito.]\n",
    "\n",
    "[2] Escribe un \"script\" (programa corto con código de Julia) que toma los *argumentos de la línea de comandos* [en Julia, éstos se guardan en la variable `ARGS`, y produce los plots de la energía y magnetización en función de la temperatura."
   ]
  },
  {
   "cell_type": "markdown",
   "metadata": {},
   "source": [
    "# Tipos "
   ]
  },
  {
   "cell_type": "markdown",
   "metadata": {},
   "source": [
    "Hasta ahora, no hay manera de hablar del \"modelo de Ising\" o del \"método de Metropolis\" en tu código --los conceptos están, de igual forma, regados por el programa. Julia permite llevar a cabo la **programación orientada a objetos**, al definir tus propios **tipos** nuevos.\n",
    "\n",
    "Por ejemplo:"
   ]
  },
  {
   "cell_type": "code",
   "execution_count": 1,
   "metadata": {
    "collapsed": false
   },
   "outputs": [],
   "source": [
    "type Hola\n",
    "    a::Int\n",
    "    b\n",
    "end"
   ]
  },
  {
   "cell_type": "markdown",
   "metadata": {},
   "source": [
    "define un *tipo nuevo de objeto*, que se llama `Hola`. Especifica que un objeto de este tipo contendrá una propiedad `a`, que es, a fuerzas, de tipo `Int`, y otro objeto `b`, que puede ser de cualquier tipo."
   ]
  },
  {
   "cell_type": "markdown",
   "metadata": {},
   "source": [
    "[3] Encuentra la manera de *crear un objeto nuevo* de este tipo."
   ]
  },
  {
   "cell_type": "markdown",
   "metadata": {},
   "source": [
    "[4] ¿Cuáles elementos de tu programa podrías tratar como objetos de esta forma? ¿Cómo se deberían comunicar entre ellos? [Nota que ¡no necesariamente hay respuestas únicas ni evidentes a esta pregunta!]"
   ]
  },
  {
   "cell_type": "markdown",
   "metadata": {},
   "source": [
    "[5] La programación orientada a objetos requiere la posibilidad de manipular los objetos, al llamar funciones que actúan con o en función de ellos. Por ejemplo, si uno tiene un tipo `Configuracion`, podría querer tener una función `voltear` que actúa sobre este objeto. ¿Cómo se puede hacer esto en Julia?"
   ]
  },
  {
   "cell_type": "markdown",
   "metadata": {},
   "source": [
    "[6] Escribe una nueva versión de tu código, en el cual se separa los conceptos de esta manera."
   ]
  },
  {
   "cell_type": "markdown",
   "metadata": {},
   "source": [
    "## Control de versiones"
   ]
  },
  {
   "cell_type": "markdown",
   "metadata": {},
   "source": [
    "Es importante contar con una bitácora de la evolución de tu código (y notebooks, datos, etc.) Para esto, se utiliza un *sistema de control de versiones*. El más común hoy día es [`git`](http://git-scm.com/).  Luego debes guardar tus archivos, y la bitácora, en un lugar remoto, por ejemplo [GitHub](http://www.github.com)."
   ]
  },
  {
   "cell_type": "markdown",
   "metadata": {},
   "source": [
    "[7] Aprende a utilizar `git`, por ejemplo usando los primeros dos notebooks de [este curso](https://github.com/lbenet/MetodosNumericosAvanzados)."
   ]
  },
  {
   "cell_type": "markdown",
   "metadata": {},
   "source": [
    "[8] Crea un repositorio para tus archivos y notebooks y empújalo a una cuenta en GitHub."
   ]
  },
  {
   "cell_type": "markdown",
   "metadata": {},
   "source": [
    "[9] Haz un \"fork\" del proyecto de alguien más y compara los códigos. Trabaja en equipo para mejorar los códigos y sube la nueva versión."
   ]
  },
  {
   "cell_type": "markdown",
   "metadata": {},
   "source": [
    "## Profiling"
   ]
  },
  {
   "cell_type": "markdown",
   "metadata": {},
   "source": [
    "El \"profiling\" (perfilamiento) es una manera de encontrar dónde se pasa más tiempo en tu programa.\n",
    "\n",
    "Julia tiene un comando (macro) `@time` que permite ver cuánto tiempo pasa en una función dada, e.g.\n",
    "\n",
    "    @time run(100)\n",
    "    \n",
    "Regresa información sobre el tiempo total y la memoria utilizada."
   ]
  },
  {
   "cell_type": "markdown",
   "metadata": {},
   "source": [
    "[10] Compara el tiempo de los dos códigos con los mismos parámetros. Encuentra cuáles funciones son más lentas."
   ]
  },
  {
   "cell_type": "markdown",
   "metadata": {},
   "source": [
    "Julia tiene también `@profile run(100)` que recolecta información sobre las funciones en las cuales se pasó más tiempo durante la corrida:"
   ]
  },
  {
   "cell_type": "markdown",
   "metadata": {},
   "source": [
    "    @profile run(100)\n",
    "    Profile.print()"
   ]
  },
  {
   "cell_type": "markdown",
   "metadata": {},
   "source": [
    "[11] Encuentra dónde pasa tiempo tu programa. ¿Hay alguna manera de acelerarlo?"
   ]
  },
  {
   "cell_type": "markdown",
   "metadata": {},
   "source": [
    "Nótese que estas optimizaciones **sólo** se deben hacer **después** de que ya tengas una versión **funcional** (aún si lenta) del programa. `git` permite rastrear todas las versiones anteriores del programa.\n",
    "\n",
    "Dijo Donald Knuth (uno de los computólogos más destacados del siglo XX): \"La optimización prematura es la raíz de todos los males\"."
   ]
  },
  {
   "cell_type": "code",
   "execution_count": 9,
   "metadata": {
    "collapsed": false
   },
   "outputs": [
    {
     "data": {
      "text/plain": [
       "1"
      ]
     },
     "execution_count": 9,
     "metadata": {},
     "output_type": "execute_result"
    }
   ],
   "source": [
    "i=1"
   ]
  },
  {
   "cell_type": "code",
   "execution_count": 10,
   "metadata": {
    "collapsed": false
   },
   "outputs": [
    {
     "name": "stdout",
     "output_type": "stream",
     "text": [
      "elapsed time: 12.562657873 seconds (3199991888 bytes allocated, 15.97% gc time)\n"
     ]
    }
   ],
   "source": [
    "@time while i!=10^8\n",
    "    i+=1\n",
    "end"
   ]
  }
 ],
 "metadata": {
  "kernelspec": {
   "display_name": "Julia 0.3.7",
   "language": "julia",
   "name": "julia 0.3"
  },
  "language": "Julia",
  "language_info": {
   "name": "julia",
   "version": "0.3.7"
  }
 },
 "nbformat": 4,
 "nbformat_minor": 0
}
